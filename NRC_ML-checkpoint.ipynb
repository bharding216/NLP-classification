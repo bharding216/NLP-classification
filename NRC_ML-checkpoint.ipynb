{
 "cells": [
  {
   "cell_type": "markdown",
   "id": "9d141438-fb1e-483a-b581-6bbe9f2334ae",
   "metadata": {},
   "source": [
    "# Predicting Whether an NRC Incident will require a 5800 Incident Report"
   ]
  },
  {
   "cell_type": "markdown",
   "id": "d040b570-8b96-462f-b2e2-c0003b3f9c95",
   "metadata": {},
   "source": [
    "## Motivation\n",
    "The National Response Center (NRC) receives calls whenever there is an oil spill, chemical spill, or HAZMAT (hazardous material) release. Depending on the characteristics of the incident that caused the release, a DOT PHMSA 5800 incident report may need to be completed. A 5800 HAZMAT incident is a more speciic and more dangerous type of incident.\n",
    "\n",
    "The purpose of this exercise is to create a model that can predict whether or not an NRC incident will require a 5800 report to be generated. \n",
    "\n",
    "By knowing whether or not a 5800 report will need to be created, the data science team at PHMSA can reduce the latency of generating incident details to management by as much as 30 days."
   ]
  },
  {
   "cell_type": "markdown",
   "id": "c36d09be-4306-4e81-b3f3-55e7405fcbad",
   "metadata": {},
   "source": [
    "## Exploratory Data Analysis"
   ]
  },
  {
   "cell_type": "code",
   "execution_count": 1,
   "id": "a62f8577-a38d-4299-81aa-77a600099e70",
   "metadata": {},
   "outputs": [
    {
     "data": {
      "text/html": [
       "<div>\n",
       "<style scoped>\n",
       "    .dataframe tbody tr th:only-of-type {\n",
       "        vertical-align: middle;\n",
       "    }\n",
       "\n",
       "    .dataframe tbody tr th {\n",
       "        vertical-align: top;\n",
       "    }\n",
       "\n",
       "    .dataframe thead th {\n",
       "        text-align: right;\n",
       "    }\n",
       "</style>\n",
       "<table border=\"1\" class=\"dataframe\">\n",
       "  <thead>\n",
       "    <tr style=\"text-align: right;\">\n",
       "      <th></th>\n",
       "      <th>target</th>\n",
       "      <th>description</th>\n",
       "    </tr>\n",
       "  </thead>\n",
       "  <tbody>\n",
       "    <tr>\n",
       "      <th>0</th>\n",
       "      <td>1</td>\n",
       "      <td>THE CALLER IS REPORTING A DERAILMENT OF 13 CAR...</td>\n",
       "    </tr>\n",
       "    <tr>\n",
       "      <th>1</th>\n",
       "      <td>1</td>\n",
       "      <td>CALLER IS REPORTING A TRACTOR TRAILER CARRYING...</td>\n",
       "    </tr>\n",
       "    <tr>\n",
       "      <th>2</th>\n",
       "      <td>1</td>\n",
       "      <td>CALLER IS REPORTING THAT A TANKER TRUCK SWERVE...</td>\n",
       "    </tr>\n",
       "    <tr>\n",
       "      <th>3</th>\n",
       "      <td>1</td>\n",
       "      <td>CALLER REPORTED A 55 GALLON METAL DRUM SPILLED...</td>\n",
       "    </tr>\n",
       "    <tr>\n",
       "      <th>4</th>\n",
       "      <td>1</td>\n",
       "      <td>THE CALLER STATES AS THE TANK CAR (NOT PART OF...</td>\n",
       "    </tr>\n",
       "  </tbody>\n",
       "</table>\n",
       "</div>"
      ],
      "text/plain": [
       "   target                                        description\n",
       "0       1  THE CALLER IS REPORTING A DERAILMENT OF 13 CAR...\n",
       "1       1  CALLER IS REPORTING A TRACTOR TRAILER CARRYING...\n",
       "2       1  CALLER IS REPORTING THAT A TANKER TRUCK SWERVE...\n",
       "3       1  CALLER REPORTED A 55 GALLON METAL DRUM SPILLED...\n",
       "4       1  THE CALLER STATES AS THE TANK CAR (NOT PART OF..."
      ]
     },
     "execution_count": 1,
     "metadata": {},
     "output_type": "execute_result"
    }
   ],
   "source": [
    "import pandas as pd\n",
    "\n",
    "df = pd.read_csv(\"combined_data.csv\", encoding=\"utf-8\", engine=\"python\")\n",
    "df.head()"
   ]
  },
  {
   "cell_type": "markdown",
   "id": "9406593f-f58b-47b2-8872-3c312b6b5cd4",
   "metadata": {},
   "source": [
    "We'll see if we can use the Event Description to predict whether or not an event will become a 5800 reportable incident.\n",
    "\n",
    "For this, we can use Logistics Regression or a CNN."
   ]
  },
  {
   "cell_type": "markdown",
   "id": "b29319c1-3b3e-48d6-a484-beccf5eb76c4",
   "metadata": {},
   "source": [
    "## Train and Test Logistic Regression"
   ]
  },
  {
   "cell_type": "code",
   "execution_count": 2,
   "id": "8260d734-77ca-4895-be00-b6dbe9bc2d2e",
   "metadata": {},
   "outputs": [],
   "source": [
    "from sklearn.model_selection import train_test_split\n",
    "from sklearn.feature_extraction.text import TfidfVectorizer\n",
    "from sklearn.linear_model import LogisticRegression\n",
    "from sklearn.metrics import accuracy_score, classification_report\n",
    "from sklearn.metrics import confusion_matrix\n",
    "from sklearn.metrics import precision_score, recall_score"
   ]
  },
  {
   "cell_type": "code",
   "execution_count": 3,
   "id": "fa958819-9f68-4746-8cd8-a2035f5e9596",
   "metadata": {},
   "outputs": [
    {
     "name": "stdout",
     "output_type": "stream",
     "text": [
      "Threshold: 0.01\n",
      "Confusion Matrix:\n",
      "[[1422 2259]\n",
      " [   0  293]]\n",
      "Precision: 0.11\n",
      "Recall: 1.00\n",
      "\n",
      "Threshold: 0.05\n",
      "Confusion Matrix:\n",
      "[[2988  693]\n",
      " [   6  287]]\n",
      "Precision: 0.29\n",
      "Recall: 0.98\n",
      "\n",
      "Threshold: 0.1\n",
      "Confusion Matrix:\n",
      "[[3321  360]\n",
      " [  20  273]]\n",
      "Precision: 0.43\n",
      "Recall: 0.93\n",
      "\n",
      "Threshold: 0.2\n",
      "Confusion Matrix:\n",
      "[[3522  159]\n",
      " [  46  247]]\n",
      "Precision: 0.61\n",
      "Recall: 0.84\n",
      "\n",
      "Threshold: 0.3\n",
      "Confusion Matrix:\n",
      "[[3590   91]\n",
      " [  75  218]]\n",
      "Precision: 0.71\n",
      "Recall: 0.74\n",
      "\n",
      "Threshold: 0.4\n",
      "Confusion Matrix:\n",
      "[[3623   58]\n",
      " [ 108  185]]\n",
      "Precision: 0.76\n",
      "Recall: 0.63\n",
      "\n",
      "Threshold: 0.5\n",
      "Confusion Matrix:\n",
      "[[3646   35]\n",
      " [ 135  158]]\n",
      "Precision: 0.82\n",
      "Recall: 0.54\n",
      "\n",
      "Threshold: 0.6\n",
      "Confusion Matrix:\n",
      "[[3661   20]\n",
      " [ 167  126]]\n",
      "Precision: 0.86\n",
      "Recall: 0.43\n",
      "\n"
     ]
    }
   ],
   "source": [
    "X = df['description']  # Features (event descriptions)\n",
    "y = df['target']    # Target (event types)\n",
    "\n",
    "# Split the dataset into training and testing sets\n",
    "X_train, X_test, y_train, y_test = train_test_split(X, y, test_size=0.2, random_state=42, shuffle=True)\n",
    "\n",
    "# Create a TF-IDF vectorizer to convert text to numerical features\n",
    "tfidf_vectorizer = TfidfVectorizer(max_features=1000, stop_words='english')\n",
    "\n",
    "X_train_tfidf = tfidf_vectorizer.fit_transform(X_train)\n",
    "X_test_tfidf = tfidf_vectorizer.transform(X_test)\n",
    "\n",
    "# Initialize and train a Logistic Regression model\n",
    "logistic_regression = LogisticRegression(max_iter=1000)\n",
    "logistic_regression.fit(X_train_tfidf, y_train)\n",
    "\n",
    "thresholds = [0.01, 0.05, 0.1, 0.2, 0.3, 0.4, 0.5, 0.6]\n",
    "\n",
    "y_true = y_test  # Actual labels\n",
    "y_pred_prob = logistic_regression.predict_proba(X_test_tfidf)[:, 1]  # Predicted probabilities\n",
    "\n",
    "thresholds = [0.01, 0.05, 0.1, 0.2, 0.3, 0.4, 0.5, 0.6]\n",
    "\n",
    "for threshold in thresholds:\n",
    "    # Classify events as positive if the predicted probability is above the threshold\n",
    "    y_pred_modified = [1 if prob >= threshold else 0 for prob in y_pred_prob]\n",
    "\n",
    "    # Calculate precision and recall\n",
    "    precision = precision_score(y_true, y_pred_modified)\n",
    "    recall = recall_score(y_true, y_pred_modified)\n",
    "\n",
    "    # Calculate confusion matrix\n",
    "    confusion = confusion_matrix(y_true, y_pred_modified)\n",
    "\n",
    "    print(f\"Threshold: {threshold}\")\n",
    "    print(\"Confusion Matrix:\")\n",
    "    print(confusion)\n",
    "    print(f\"Precision: {precision:.2f}\")\n",
    "    print(f\"Recall: {recall:.2f}\")\n",
    "    print()"
   ]
  },
  {
   "cell_type": "markdown",
   "id": "95bde0ff-4edd-4b1d-95d7-4b2935796278",
   "metadata": {},
   "source": [
    "Threshold: applied to classify events as positive or negative.\n",
    "\n",
    "- Recall: minimizes how often the model predicts \"NOT A 5800\" but is wrong.\n",
    "- Precision: minimizes how often the model predicts \"THIS IS A 5800\" but is wrong.\n",
    "\n",
    "We would rather be extremely sure that an event will be a 5800 if it is labeled as such. Therefore, we want a high recall. \n",
    "\n",
    "A threshold of 0.1 gives us a good balance of high recall with decent precision. "
   ]
  },
  {
   "cell_type": "markdown",
   "id": "334236fa-72e3-4bba-ad12-c96df006dba8",
   "metadata": {},
   "source": [
    "Based on the results above, we consider a threshold of 0.3 to yield the best results. "
   ]
  },
  {
   "cell_type": "markdown",
   "id": "8d9bdf8e-e016-411e-902c-2e0ddf3adacc",
   "metadata": {},
   "source": [
    "## Train and Test Random Forest Classifier"
   ]
  },
  {
   "cell_type": "code",
   "execution_count": 4,
   "id": "9c5beb27-6b38-42f0-8522-951cece1a372",
   "metadata": {},
   "outputs": [
    {
     "name": "stdout",
     "output_type": "stream",
     "text": [
      "Confusion Matrix:\n",
      " [[3568  113]\n",
      " [  80  213]]\n",
      "Precision: 0.65\n",
      "Recall: 0.73\n",
      "F1 Score: 0.69\n",
      "Accuracy: 0.95\n"
     ]
    }
   ],
   "source": [
    "from sklearn.ensemble import RandomForestClassifier\n",
    "from sklearn.metrics import confusion_matrix, precision_score, recall_score, f1_score, accuracy_score\n",
    "\n",
    "# Train the Random Forest model\n",
    "random_forest = RandomForestClassifier(n_estimators=100, random_state=42)\n",
    "random_forest.fit(X_train_tfidf, y_train)\n",
    "\n",
    "# Get the predicted probabilities for class 1 (positive class)\n",
    "y_pred_prob = random_forest.predict_proba(X_test_tfidf)[:, 1]\n",
    "\n",
    "threshold = 0.3\n",
    "y_pred_custom = (y_pred_prob > threshold).astype(int)\n",
    "\n",
    "# Calculate the confusion matrix\n",
    "confusion = confusion_matrix(y_test, y_pred_custom)\n",
    "\n",
    "# Calculate precision, recall, and F1 score\n",
    "precision = precision_score(y_test, y_pred_custom)\n",
    "recall = recall_score(y_test, y_pred_custom)\n",
    "f1 = f1_score(y_test, y_pred_custom)\n",
    "\n",
    "# Calculate accuracy\n",
    "accuracy = accuracy_score(y_test, y_pred_custom)\n",
    "\n",
    "print(\"Confusion Matrix:\\n\", confusion)\n",
    "print(\"Precision:\", round(precision, 2))\n",
    "print(\"Recall:\", round(recall, 2))\n",
    "print(\"F1 Score:\", round(f1, 2))\n",
    "print(\"Accuracy:\", round(accuracy, 2))"
   ]
  },
  {
   "cell_type": "markdown",
   "id": "1e76426d-0b56-4861-9605-69c594588646",
   "metadata": {},
   "source": [
    "Unfortunately, the Random Forest Classifer does not appear to perform much better (if any better) than the Logistic Regression algorithm."
   ]
  },
  {
   "cell_type": "markdown",
   "id": "8f820353-9eb4-449d-b86c-8d063f4cabe1",
   "metadata": {},
   "source": [
    "Next, we will train a CNN deep learning model to attempt to obtain better results."
   ]
  },
  {
   "cell_type": "markdown",
   "id": "404609dd-f735-4f10-8ac2-968314822352",
   "metadata": {},
   "source": [
    "## Train and Test CNN"
   ]
  },
  {
   "cell_type": "code",
   "execution_count": 5,
   "id": "109ad326-765c-428c-813b-c0530646ccf3",
   "metadata": {},
   "outputs": [],
   "source": [
    "from tensorflow.keras.models import Sequential\n",
    "from tensorflow.keras.layers import Embedding, Conv1D, GlobalMaxPooling1D, Dense, Dropout\n",
    "from tensorflow.keras.preprocessing.text import Tokenizer\n",
    "from tensorflow.keras.preprocessing.sequence import pad_sequences"
   ]
  },
  {
   "cell_type": "code",
   "execution_count": 6,
   "id": "51c036af-a563-4530-883a-9bbe0be9f545",
   "metadata": {},
   "outputs": [
    {
     "name": "stdout",
     "output_type": "stream",
     "text": [
      "Epoch 1/3\n",
      "249/249 [==============================] - 6s 22ms/step - loss: 0.2151 - accuracy: 0.9267 - val_loss: 0.1061 - val_accuracy: 0.9555\n",
      "Epoch 2/3\n",
      "249/249 [==============================] - 5s 22ms/step - loss: 0.0962 - accuracy: 0.9602 - val_loss: 0.0940 - val_accuracy: 0.9612\n",
      "Epoch 3/3\n",
      "249/249 [==============================] - 6s 22ms/step - loss: 0.0615 - accuracy: 0.9755 - val_loss: 0.1006 - val_accuracy: 0.9610\n",
      "125/125 [==============================] - 1s 4ms/step - loss: 0.1006 - accuracy: 0.9610\n",
      "Test Accuracy: 0.9609964489936829\n"
     ]
    }
   ],
   "source": [
    "# Tokenize your text data\n",
    "tokenizer = Tokenizer()\n",
    "tokenizer.fit_on_texts(X_train)\n",
    "X_train_seq = tokenizer.texts_to_sequences(X_train)\n",
    "X_test_seq = tokenizer.texts_to_sequences(X_test)\n",
    "\n",
    "# Pad sequences to a fixed length\n",
    "max_seq_length = 100  # Adjust as needed\n",
    "X_train_pad = pad_sequences(X_train_seq, maxlen=max_seq_length)\n",
    "X_test_pad = pad_sequences(X_test_seq, maxlen=max_seq_length)\n",
    "\n",
    "# Create a CNN model\n",
    "model = Sequential()\n",
    "model.add(Embedding(input_dim=len(tokenizer.word_index) + 1, output_dim=100, input_length=max_seq_length))\n",
    "model.add(Conv1D(128, 5, activation='relu'))\n",
    "model.add(GlobalMaxPooling1D())\n",
    "model.add(Dense(128, activation='relu'))\n",
    "model.add(Dropout(0.5))\n",
    "model.add(Dense(1, activation='sigmoid'))\n",
    "\n",
    "# Compile the model\n",
    "model.compile(loss='binary_crossentropy', optimizer='adam', metrics=['accuracy'])\n",
    "\n",
    "# Train the model\n",
    "model.fit(X_train_pad, y_train, epochs=3, batch_size=64, validation_data=(X_test_pad, y_test))\n",
    "\n",
    "# Evaluate the model\n",
    "loss, accuracy = model.evaluate(X_test_pad, y_test)\n",
    "print(f'Test Accuracy: {accuracy}')"
   ]
  },
  {
   "cell_type": "code",
   "execution_count": 7,
   "id": "e62f6d48-145c-4ccc-a7a3-2a34bb26bc0c",
   "metadata": {},
   "outputs": [
    {
     "name": "stdout",
     "output_type": "stream",
     "text": [
      "125/125 [==============================] - 1s 4ms/step\n",
      "Confusion Matrix:\n",
      "[[3583   98]\n",
      " [  64  229]]\n"
     ]
    }
   ],
   "source": [
    "from sklearn.metrics import confusion_matrix\n",
    "\n",
    "y_true = y_test  # Actual labels\n",
    "y_pred = model.predict(X_test_pad)  # Predicted labels (modify as needed)\n",
    "\n",
    "# Convert predicted probabilities to binary class labels (0 or 1)\n",
    "y_pred_binary = [1 if prob > 0.3 else 0 for prob in y_pred]\n",
    "\n",
    "# Calculate the confusion matrix\n",
    "confusion = confusion_matrix(y_true, y_pred_binary)\n",
    "\n",
    "print(\"Confusion Matrix:\")\n",
    "print(confusion)"
   ]
  },
  {
   "cell_type": "code",
   "execution_count": 8,
   "id": "5866a920-031c-4330-83fd-741025fe0de0",
   "metadata": {},
   "outputs": [
    {
     "name": "stdout",
     "output_type": "stream",
     "text": [
      "125/125 [==============================] - 1s 4ms/step\n",
      "Precision: 0.70\n",
      "Recall: 0.78\n"
     ]
    }
   ],
   "source": [
    "from sklearn.metrics import precision_score, recall_score\n",
    "\n",
    "y_true = y_test  # Actual labels\n",
    "y_pred_binary = [1 if prob > 0.3 else 0 for prob in model.predict(X_test_pad)]  # Predicted binary labels\n",
    "\n",
    "precision = precision_score(y_true, y_pred_binary)\n",
    "recall = recall_score(y_true, y_pred_binary)\n",
    "\n",
    "print(f\"Precision: {precision:.2f}\")\n",
    "print(f\"Recall: {recall:.2f}\")"
   ]
  },
  {
   "cell_type": "markdown",
   "id": "2c643aaa-8937-4eee-b9d9-4a36ade4c264",
   "metadata": {},
   "source": [
    "Since these models perform similarly, we'll use the simpler logistic regression model for our final test."
   ]
  },
  {
   "cell_type": "markdown",
   "id": "cadf9bcf-8f6e-4833-9012-3fa2e9354540",
   "metadata": {},
   "source": [
    "# Model Head-to-Head Test"
   ]
  },
  {
   "cell_type": "markdown",
   "id": "6c7cc7b2-524d-4765-8e8b-f3dfcd560ca9",
   "metadata": {},
   "source": [
    "## Logistic Regression Test"
   ]
  },
  {
   "cell_type": "code",
   "execution_count": 9,
   "id": "5d37bedb-d5c7-4a7a-aea8-e5bdd774a18c",
   "metadata": {},
   "outputs": [
    {
     "name": "stdout",
     "output_type": "stream",
     "text": [
      "Data Point 1: CALLER IS REPORTING A RELEASE OF DIESEL FUEL FROM A PUMP AT A GAS STATION.\n",
      "Predicted Target: 0\n",
      "Predicted Probability: 0.01\n",
      "\n",
      "Data Point 2: CALLER IS REPORTING THAT THERE IS A PARTIALLY SUBMERGED DRUM THAT IS NEAR THE BEACH LINE. THE DRUM IS DARK IN COLOR AND CAN ONLY BE SEEN AT LOW TIDE.\n",
      "Predicted Target: 0\n",
      "Predicted Probability: 0.07\n",
      "\n",
      "Data Point 3: CALLER IS REPORTING THAT ONE BULLET WAS FOUND IN A PASSENGERS CARRY ON BAG AT THE GANG WAY SECURITY CHECK.\n",
      "Predicted Target: 0\n",
      "Predicted Probability: 0.06\n",
      "\n",
      "Data Point 4: CALLER STATED THAT THEY DISCOVERED A VESSEL THAT IS TAKING ON WATER AND IS HALF OUT OF THE WATER, RESTING ON THE BOTTOM. THERE WAS NO REPORT OF POLLUTION AT THE TIME OF THE REPORT.\n",
      "Predicted Target: 0\n",
      "Predicted Probability: 0.00\n",
      "\n",
      "Data Point 5: CALLER IS REPORTING THAT SODIUM HYDROXIDE IS LEAKING FROM A TANKER TRUCK DUE TO UNKNOWN CAUSES.\n",
      "Predicted Target: 1\n",
      "Predicted Probability: 0.78\n",
      "\n",
      "Data Point 6: THE CALLER IS REPORTING A RELEASE OF UN1993 (COMBUSTIBLE LIQUID) DUE TO POTENTIAL LOAD SHIFT *(DAMAGE TO THE TOTE DURING TRANSPORT). THE IMPACTS ARE INSIDE THE TRAILER, ROADWAY, AND INTO A STORM DRAIN.\n",
      "Predicted Target: 1\n",
      "Predicted Probability: 0.38\n",
      "\n",
      "Data Point 7: CALLER IS REPORTING THAT A TANKER TRUCK ROLLED OVER AND DISCHARGED APPROXIMATELY 16 BARRELS OF CRUDE OIL ONTO THE GROUND. NO FIRES, INJURIES, OR FATALITIES REPORTED.\n",
      "Predicted Target: 1\n",
      "Predicted Probability: 0.60\n",
      "\n",
      "Data Point 8: CALLER IS REPORTING A RELEASE OF SODIUM HYDROXIDE SOLUTION ONTO THE BALLAST FROM TANK CAR GAMX5483 DUE TO EQUIPMENT FAILURE.\n",
      "Predicted Target: 1\n",
      "Predicted Probability: 0.65\n",
      "\n",
      "Data Point 9: CALLER IS REPORTING A RELEASE OF PHOSPHOROUS ACID (UN 2834) ONTO THE PAVEMENT AT A RAILYARD FROM A SHIPPING CONTAINER FOR UNKNOWN REASONS.\n",
      "Predicted Target: 0\n",
      "Predicted Probability: 0.30\n",
      "\n",
      "Data Point 10: THE CALLER IS REPORTING A DISCHARGE OF DYED DIESEL FUEL NO. 2 (300-400 GALLONS) ONTO SOIL. THE CALLER STATED THAT WHILE TRANSFERRING FUEL FROM A TANKER TRUCK TO A STORAGE TANK A VALVE WAS IMPROPERLY LEFT OPEN.\n",
      "Predicted Target: 0\n",
      "Predicted Probability: 0.28\n",
      "\n"
     ]
    }
   ],
   "source": [
    "from sklearn.feature_extraction.text import TfidfVectorizer\n",
    "\n",
    "# List of 10 new data points (text descriptions) that you want to predict\n",
    "# The first 5 are non-reportable, the last 5 are reportable.\n",
    "new_data_points = [\n",
    "    \"CALLER IS REPORTING A RELEASE OF DIESEL FUEL FROM A PUMP AT A GAS STATION.\",\n",
    "    \"CALLER IS REPORTING THAT THERE IS A PARTIALLY SUBMERGED DRUM THAT IS NEAR THE BEACH LINE. THE DRUM IS DARK IN COLOR AND CAN ONLY BE SEEN AT LOW TIDE.\",\n",
    "    \"CALLER IS REPORTING THAT ONE BULLET WAS FOUND IN A PASSENGERS CARRY ON BAG AT THE GANG WAY SECURITY CHECK.\",\n",
    "    \"CALLER STATED THAT THEY DISCOVERED A VESSEL THAT IS TAKING ON WATER AND IS HALF OUT OF THE WATER, RESTING ON THE BOTTOM. THERE WAS NO REPORT OF POLLUTION AT THE TIME OF THE REPORT.\",\n",
    "    \"CALLER IS REPORTING THAT SODIUM HYDROXIDE IS LEAKING FROM A TANKER TRUCK DUE TO UNKNOWN CAUSES.\",\n",
    "    \"THE CALLER IS REPORTING A RELEASE OF UN1993 (COMBUSTIBLE LIQUID) DUE TO POTENTIAL LOAD SHIFT *(DAMAGE TO THE TOTE DURING TRANSPORT). THE IMPACTS ARE INSIDE THE TRAILER, ROADWAY, AND INTO A STORM DRAIN.\",\n",
    "    \"CALLER IS REPORTING THAT A TANKER TRUCK ROLLED OVER AND DISCHARGED APPROXIMATELY 16 BARRELS OF CRUDE OIL ONTO THE GROUND. NO FIRES, INJURIES, OR FATALITIES REPORTED.\",\n",
    "    \"CALLER IS REPORTING A RELEASE OF SODIUM HYDROXIDE SOLUTION ONTO THE BALLAST FROM TANK CAR GAMX5483 DUE TO EQUIPMENT FAILURE.\",\n",
    "    \"CALLER IS REPORTING A RELEASE OF PHOSPHOROUS ACID (UN 2834) ONTO THE PAVEMENT AT A RAILYARD FROM A SHIPPING CONTAINER FOR UNKNOWN REASONS.\",\n",
    "    \"THE CALLER IS REPORTING A DISCHARGE OF DYED DIESEL FUEL NO. 2 (300-400 GALLONS) ONTO SOIL. THE CALLER STATED THAT WHILE TRANSFERRING FUEL FROM A TANKER TRUCK TO A STORAGE TANK A VALVE WAS IMPROPERLY LEFT OPEN.\"\n",
    "]\n",
    "\n",
    "# Initialize a list to store the predictions and probabilities for each data point\n",
    "predictions = []\n",
    "probabilities = []\n",
    "custom_threshold = 0.3\n",
    "\n",
    "# Preprocess and make predictions for each data point\n",
    "for data_point in new_data_points:\n",
    "    # Preprocess the data point using the same TF-IDF vectorizer\n",
    "    data_point_tfidf = tfidf_vectorizer.transform([data_point])\n",
    "\n",
    "    # Use the Logistic Regression model to predict the probability\n",
    "    predicted_probability = logistic_regression.predict_proba(data_point_tfidf)[:, 1]\n",
    "\n",
    "    # Classify based on the custom threshold\n",
    "    predicted_target = 1 if predicted_probability >= custom_threshold else 0\n",
    "\n",
    "    # Append the results to the respective lists\n",
    "    predictions.append(predicted_target)\n",
    "    probabilities.append(predicted_probability)\n",
    "\n",
    "# Print the predictions and probabilities for each data point\n",
    "for i, data_point in enumerate(new_data_points):\n",
    "    print(f\"Data Point {i + 1}: {data_point}\")\n",
    "    print(f\"Predicted Target: {predictions[i]}\")\n",
    "    print(f\"Predicted Probability: {probabilities[i][0]:.2f}\")\n",
    "    print()\n"
   ]
  },
  {
   "cell_type": "markdown",
   "id": "e4d47039-4349-40b1-819b-bef768242800",
   "metadata": {},
   "source": [
    "## Random Forest Classifier Test"
   ]
  },
  {
   "cell_type": "code",
   "execution_count": 13,
   "id": "f997f636-7fb4-4cfd-aca6-f9195083b969",
   "metadata": {},
   "outputs": [
    {
     "name": "stdout",
     "output_type": "stream",
     "text": [
      "Data Point 1: CALLER IS REPORTING A RELEASE OF DIESEL FUEL FROM A PUMP AT A GAS STATION.\n",
      "Predicted Target: 0\n",
      "Predicted Probability: 0.03\n",
      "\n",
      "Data Point 2: CALLER IS REPORTING THAT THERE IS A PARTIALLY SUBMERGED DRUM THAT IS NEAR THE BEACH LINE. THE DRUM IS DARK IN COLOR AND CAN ONLY BE SEEN AT LOW TIDE.\n",
      "Predicted Target: 0\n",
      "Predicted Probability: 0.00\n",
      "\n",
      "Data Point 3: CALLER IS REPORTING THAT ONE BULLET WAS FOUND IN A PASSENGERS CARRY ON BAG AT THE GANG WAY SECURITY CHECK.\n",
      "Predicted Target: 0\n",
      "Predicted Probability: 0.03\n",
      "\n",
      "Data Point 4: CALLER STATED THAT THEY DISCOVERED A VESSEL THAT IS TAKING ON WATER AND IS HALF OUT OF THE WATER, RESTING ON THE BOTTOM. THERE WAS NO REPORT OF POLLUTION AT THE TIME OF THE REPORT.\n",
      "Predicted Target: 0\n",
      "Predicted Probability: 0.00\n",
      "\n",
      "Data Point 5: CALLER IS REPORTING THAT SODIUM HYDROXIDE IS LEAKING FROM A TANKER TRUCK DUE TO UNKNOWN CAUSES.\n",
      "Predicted Target: 1\n",
      "Predicted Probability: 0.59\n",
      "\n",
      "Data Point 6: THE CALLER IS REPORTING A RELEASE OF UN1993 (COMBUSTIBLE LIQUID) DUE TO POTENTIAL LOAD SHIFT *(DAMAGE TO THE TOTE DURING TRANSPORT). THE IMPACTS ARE INSIDE THE TRAILER, ROADWAY, AND INTO A STORM DRAIN.\n",
      "Predicted Target: 1\n",
      "Predicted Probability: 0.65\n",
      "\n",
      "Data Point 7: CALLER IS REPORTING THAT A TANKER TRUCK ROLLED OVER AND DISCHARGED APPROXIMATELY 16 BARRELS OF CRUDE OIL ONTO THE GROUND. NO FIRES, INJURIES, OR FATALITIES REPORTED.\n",
      "Predicted Target: 1\n",
      "Predicted Probability: 0.48\n",
      "\n",
      "Data Point 8: CALLER IS REPORTING A RELEASE OF SODIUM HYDROXIDE SOLUTION ONTO THE BALLAST FROM TANK CAR GAMX5483 DUE TO EQUIPMENT FAILURE.\n",
      "Predicted Target: 1\n",
      "Predicted Probability: 0.43\n",
      "\n",
      "Data Point 9: CALLER IS REPORTING A RELEASE OF PHOSPHOROUS ACID (UN 2834) ONTO THE PAVEMENT AT A RAILYARD FROM A SHIPPING CONTAINER FOR UNKNOWN REASONS.\n",
      "Predicted Target: 1\n",
      "Predicted Probability: 0.41\n",
      "\n",
      "Data Point 10: THE CALLER IS REPORTING A DISCHARGE OF DYED DIESEL FUEL NO. 2 (300-400 GALLONS) ONTO SOIL. THE CALLER STATED THAT WHILE TRANSFERRING FUEL FROM A TANKER TRUCK TO A STORAGE TANK A VALVE WAS IMPROPERLY LEFT OPEN.\n",
      "Predicted Target: 1\n",
      "Predicted Probability: 0.35\n",
      "\n"
     ]
    }
   ],
   "source": [
    "# List of 10 new data points (text descriptions) that you want to predict\n",
    "# The first 5 are non-reportable, the last 5 are reportable.\n",
    "new_data_points = [\n",
    "    \"CALLER IS REPORTING A RELEASE OF DIESEL FUEL FROM A PUMP AT A GAS STATION.\",\n",
    "    \"CALLER IS REPORTING THAT THERE IS A PARTIALLY SUBMERGED DRUM THAT IS NEAR THE BEACH LINE. THE DRUM IS DARK IN COLOR AND CAN ONLY BE SEEN AT LOW TIDE.\",\n",
    "    \"CALLER IS REPORTING THAT ONE BULLET WAS FOUND IN A PASSENGERS CARRY ON BAG AT THE GANG WAY SECURITY CHECK.\",\n",
    "    \"CALLER STATED THAT THEY DISCOVERED A VESSEL THAT IS TAKING ON WATER AND IS HALF OUT OF THE WATER, RESTING ON THE BOTTOM. THERE WAS NO REPORT OF POLLUTION AT THE TIME OF THE REPORT.\",\n",
    "    \"CALLER IS REPORTING THAT SODIUM HYDROXIDE IS LEAKING FROM A TANKER TRUCK DUE TO UNKNOWN CAUSES.\",\n",
    "    \"THE CALLER IS REPORTING A RELEASE OF UN1993 (COMBUSTIBLE LIQUID) DUE TO POTENTIAL LOAD SHIFT *(DAMAGE TO THE TOTE DURING TRANSPORT). THE IMPACTS ARE INSIDE THE TRAILER, ROADWAY, AND INTO A STORM DRAIN.\",\n",
    "    \"CALLER IS REPORTING THAT A TANKER TRUCK ROLLED OVER AND DISCHARGED APPROXIMATELY 16 BARRELS OF CRUDE OIL ONTO THE GROUND. NO FIRES, INJURIES, OR FATALITIES REPORTED.\",\n",
    "    \"CALLER IS REPORTING A RELEASE OF SODIUM HYDROXIDE SOLUTION ONTO THE BALLAST FROM TANK CAR GAMX5483 DUE TO EQUIPMENT FAILURE.\",\n",
    "    \"CALLER IS REPORTING A RELEASE OF PHOSPHOROUS ACID (UN 2834) ONTO THE PAVEMENT AT A RAILYARD FROM A SHIPPING CONTAINER FOR UNKNOWN REASONS.\",\n",
    "    \"THE CALLER IS REPORTING A DISCHARGE OF DYED DIESEL FUEL NO. 2 (300-400 GALLONS) ONTO SOIL. THE CALLER STATED THAT WHILE TRANSFERRING FUEL FROM A TANKER TRUCK TO A STORAGE TANK A VALVE WAS IMPROPERLY LEFT OPEN.\"\n",
    "]\n",
    "\n",
    "# Initialize a list to store the predictions and probabilities for each data point\n",
    "predictions = []\n",
    "probabilities = []\n",
    "custom_threshold = 0.3\n",
    "\n",
    "# Preprocess and make predictions for each data point\n",
    "for data_point in new_data_points:\n",
    "    # Preprocess the data point using the same TF-IDF vectorizer\n",
    "    data_point_tfidf = tfidf_vectorizer.transform([data_point])\n",
    "\n",
    "    # Use the Logistic Regression model to predict the probability\n",
    "    predicted_probability = random_forest.predict_proba(data_point_tfidf)[:, 1]\n",
    "\n",
    "    # Classify based on the custom threshold\n",
    "    predicted_target = 1 if predicted_probability >= custom_threshold else 0\n",
    "\n",
    "    # Append the results to the respective lists\n",
    "    predictions.append(predicted_target)\n",
    "    probabilities.append(predicted_probability)\n",
    "\n",
    "# Print the predictions and probabilities for each data point\n",
    "for i, data_point in enumerate(new_data_points):\n",
    "    print(f\"Data Point {i + 1}: {data_point}\")\n",
    "    print(f\"Predicted Target: {predictions[i]}\")\n",
    "    print(f\"Predicted Probability: {probabilities[i][0]:.2f}\")\n",
    "    print()"
   ]
  },
  {
   "cell_type": "markdown",
   "id": "24a01460-d2c2-4777-b56c-756edcbc347f",
   "metadata": {},
   "source": [
    "## CNN Test"
   ]
  },
  {
   "cell_type": "code",
   "execution_count": 10,
   "id": "0ea20859-b6a6-47dd-83d8-b1c10ea59bab",
   "metadata": {},
   "outputs": [
    {
     "name": "stdout",
     "output_type": "stream",
     "text": [
      "1/1 [==============================] - 0s 17ms/step\n",
      "Data Point 1: CALLER IS REPORTING A RELEASE OF DIESEL FUEL FROM A PUMP AT A GAS STATION.\n",
      "Predicted Target: 0\n",
      "Predicted Probability: 0.00\n",
      "\n",
      "Data Point 2: CALLER IS REPORTING THAT THERE IS A PARTIALLY SUBMERGED DRUM THAT IS NEAR THE BEACH LINE. THE DRUM IS DARK IN COLOR AND CAN ONLY BE SEEN AT LOW TIDE.\n",
      "Predicted Target: 0\n",
      "Predicted Probability: 0.01\n",
      "\n",
      "Data Point 3: CALLER IS REPORTING THAT ONE BULLET WAS FOUND IN A PASSENGERS CARRY ON BAG AT THE GANG WAY SECURITY CHECK.\n",
      "Predicted Target: 0\n",
      "Predicted Probability: 0.02\n",
      "\n",
      "Data Point 4: CALLER STATED THAT THEY DISCOVERED A VESSEL THAT IS TAKING ON WATER AND IS HALF OUT OF THE WATER, RESTING ON THE BOTTOM. THERE WAS NO REPORT OF POLLUTION AT THE TIME OF THE REPORT.\n",
      "Predicted Target: 0\n",
      "Predicted Probability: 0.00\n",
      "\n",
      "Data Point 5: CALLER IS REPORTING THAT SODIUM HYDROXIDE IS LEAKING FROM A TANKER TRUCK DUE TO UNKNOWN CAUSES.\n",
      "Predicted Target: 1\n",
      "Predicted Probability: 0.88\n",
      "\n",
      "Data Point 6: THE CALLER IS REPORTING A RELEASE OF UN1993 (COMBUSTIBLE LIQUID) DUE TO POTENTIAL LOAD SHIFT *(DAMAGE TO THE TOTE DURING TRANSPORT). THE IMPACTS ARE INSIDE THE TRAILER, ROADWAY, AND INTO A STORM DRAIN.\n",
      "Predicted Target: 1\n",
      "Predicted Probability: 0.70\n",
      "\n",
      "Data Point 7: CALLER IS REPORTING THAT A TANKER TRUCK ROLLED OVER AND DISCHARGED APPROXIMATELY 16 BARRELS OF CRUDE OIL ONTO THE GROUND. NO FIRES, INJURIES, OR FATALITIES REPORTED.\n",
      "Predicted Target: 1\n",
      "Predicted Probability: 0.89\n",
      "\n",
      "Data Point 8: CALLER IS REPORTING A RELEASE OF SODIUM HYDROXIDE SOLUTION ONTO THE BALLAST FROM TANK CAR GAMX5483 DUE TO EQUIPMENT FAILURE.\n",
      "Predicted Target: 1\n",
      "Predicted Probability: 0.75\n",
      "\n",
      "Data Point 9: CALLER IS REPORTING A RELEASE OF PHOSPHOROUS ACID (UN 2834) ONTO THE PAVEMENT AT A RAILYARD FROM A SHIPPING CONTAINER FOR UNKNOWN REASONS.\n",
      "Predicted Target: 1\n",
      "Predicted Probability: 0.67\n",
      "\n",
      "Data Point 10: THE CALLER IS REPORTING A DISCHARGE OF DYED DIESEL FUEL NO. 2 (300-400 GALLONS) ONTO SOIL. THE CALLER STATED THAT WHILE TRANSFERRING FUEL FROM A TANKER TRUCK TO A STORAGE TANK A VALVE WAS IMPROPERLY LEFT OPEN.\n",
      "Predicted Target: 1\n",
      "Predicted Probability: 0.79\n",
      "\n"
     ]
    }
   ],
   "source": [
    "from tensorflow.keras.preprocessing.text import Tokenizer\n",
    "from tensorflow.keras.preprocessing.sequence import pad_sequences\n",
    "\n",
    "# List of 10 new data points (text descriptions) that you want to predict\n",
    "new_data_points = [\n",
    "    \"CALLER IS REPORTING A RELEASE OF DIESEL FUEL FROM A PUMP AT A GAS STATION.\",\n",
    "    \"CALLER IS REPORTING THAT THERE IS A PARTIALLY SUBMERGED DRUM THAT IS NEAR THE BEACH LINE. THE DRUM IS DARK IN COLOR AND CAN ONLY BE SEEN AT LOW TIDE.\",\n",
    "    \"CALLER IS REPORTING THAT ONE BULLET WAS FOUND IN A PASSENGERS CARRY ON BAG AT THE GANG WAY SECURITY CHECK.\",\n",
    "    \"CALLER STATED THAT THEY DISCOVERED A VESSEL THAT IS TAKING ON WATER AND IS HALF OUT OF THE WATER, RESTING ON THE BOTTOM. THERE WAS NO REPORT OF POLLUTION AT THE TIME OF THE REPORT.\",\n",
    "    \"CALLER IS REPORTING THAT SODIUM HYDROXIDE IS LEAKING FROM A TANKER TRUCK DUE TO UNKNOWN CAUSES.\",\n",
    "    \"THE CALLER IS REPORTING A RELEASE OF UN1993 (COMBUSTIBLE LIQUID) DUE TO POTENTIAL LOAD SHIFT *(DAMAGE TO THE TOTE DURING TRANSPORT). THE IMPACTS ARE INSIDE THE TRAILER, ROADWAY, AND INTO A STORM DRAIN.\",\n",
    "    \"CALLER IS REPORTING THAT A TANKER TRUCK ROLLED OVER AND DISCHARGED APPROXIMATELY 16 BARRELS OF CRUDE OIL ONTO THE GROUND. NO FIRES, INJURIES, OR FATALITIES REPORTED.\",\n",
    "    \"CALLER IS REPORTING A RELEASE OF SODIUM HYDROXIDE SOLUTION ONTO THE BALLAST FROM TANK CAR GAMX5483 DUE TO EQUIPMENT FAILURE.\",\n",
    "    \"CALLER IS REPORTING A RELEASE OF PHOSPHOROUS ACID (UN 2834) ONTO THE PAVEMENT AT A RAILYARD FROM A SHIPPING CONTAINER FOR UNKNOWN REASONS.\",\n",
    "    \"THE CALLER IS REPORTING A DISCHARGE OF DYED DIESEL FUEL NO. 2 (300-400 GALLONS) ONTO SOIL. THE CALLER STATED THAT WHILE TRANSFERRING FUEL FROM A TANKER TRUCK TO A STORAGE TANK A VALVE WAS IMPROPERLY LEFT OPEN.\"\n",
    "]\n",
    "\n",
    "# Tokenize and pad sequences for the new data points\n",
    "new_data_sequences = tokenizer.texts_to_sequences(new_data_points)\n",
    "new_data_pad = pad_sequences(new_data_sequences, maxlen=max_seq_length)\n",
    "\n",
    "# Make predictions for each data point using the CNN model\n",
    "predictions = model.predict(new_data_pad)\n",
    "predicted_targets = [1 if prob >= 0.3 else 0 for prob in predictions]\n",
    "\n",
    "# Print the predictions and probabilities for each data point\n",
    "for i, data_point in enumerate(new_data_points):\n",
    "    print(f\"Data Point {i + 1}: {data_point}\")\n",
    "    print(f\"Predicted Target: {predicted_targets[i]}\")\n",
    "    print(f\"Predicted Probability: {predictions[i][0]:.2f}\")\n",
    "    print()\n"
   ]
  },
  {
   "cell_type": "markdown",
   "id": "8266a5dd-1b15-4a53-8c7d-a148fbf902f6",
   "metadata": {},
   "source": [
    "# Concluding Thoughts"
   ]
  },
  {
   "cell_type": "markdown",
   "id": "fbe0d6ce-ed93-4351-91b1-29380dd59ec5",
   "metadata": {},
   "source": [
    "\r\n",
    "Both Logistic Regression with TF-IDF and CNN (Convolutional Neural Network) are valid approaches for classifying text data. Here's a comparison of the two methods:\r\n",
    "\r\n",
    "## Logistic Regression with TF-IDF:\r\n",
    "\r\n",
    "### Pros:\r\n",
    "- **Simplicity**: Logistic Regression is a simple and interpretable model.\r\n",
    "- **Efficiency**: It offers faster training and inference, especially for small to medium-sized datasets.\r\n",
    "- **Suitability**: Works well for linearly separable or straightforward text classification tasks.\r\n",
    "\r\n",
    "### Cons:\r\n",
    "- **Limited Complexity**: It may not capture complex relationships in the data.\r\n",
    "- **Semantic Constraints**: Struggles on tasks requiring semantic understanding or contextual analysis.\r\n",
    "- **Ineffectiveness**: Less effective for sentiment analysis and text generation tasks.\r\n",
    "\r\n",
    "## CNN Text Classification Model:\r\n",
    "\r\n",
    "### Pros:\r\n",
    "- **Local Patterns**: CNN can capture local patterns and relationships in text using convolutional layers.\r\n",
    "- **Hierarchical Features**: Effective at capturing hierarchical features in text data.\r\n",
    "- **Contextual Understanding**: Suitable for tasks that require understanding sentence context and structure.\r\n",
    "\r\n",
    "### Cons:\r\n",
    "- **Data Requirement**: CNN models require larger datasets for training due to more parameters.\r\n",
    "- **Training Time**: Longer training times, especially for large models.\r\n",
    "- **Overfitting Risk**: May overfit if not regularized properly.\r\n",
    "\r\n",
    "## Next Steps:\r\n",
    "Consider augmenting your CNN model by adding an LSTM layer to further enhance its ability to handle sequential text data.not regularized properly."
   ]
  },
  {
   "cell_type": "code",
   "execution_count": 11,
   "id": "6a6272fb-7fbb-49ab-bc51-fedc97771e9a",
   "metadata": {},
   "outputs": [
    {
     "name": "stdout",
     "output_type": "stream",
     "text": [
      "Epoch 1/3\n",
      "249/249 [==============================] - 10s 35ms/step - loss: 0.2351 - accuracy: 0.9275 - val_loss: 0.1076 - val_accuracy: 0.9592\n",
      "Epoch 2/3\n",
      "249/249 [==============================] - 9s 37ms/step - loss: 0.0983 - accuracy: 0.9614 - val_loss: 0.0983 - val_accuracy: 0.9618\n",
      "Epoch 3/3\n",
      "249/249 [==============================] - 10s 39ms/step - loss: 0.0663 - accuracy: 0.9760 - val_loss: 0.1027 - val_accuracy: 0.9607\n",
      "125/125 [==============================] - 1s 7ms/step - loss: 0.1027 - accuracy: 0.9607\n",
      "Test Accuracy: 0.9607448577880859\n"
     ]
    }
   ],
   "source": [
    "from tensorflow.keras.models import Sequential\n",
    "from tensorflow.keras.layers import Embedding, Conv1D, MaxPooling1D, LSTM, Dense, GlobalMaxPooling1D, Dropout\n",
    "from tensorflow.keras.preprocessing.text import Tokenizer\n",
    "from tensorflow.keras.preprocessing.sequence import pad_sequences\n",
    "\n",
    "# Tokenize your text data\n",
    "tokenizer = Tokenizer()\n",
    "tokenizer.fit_on_texts(X_train)\n",
    "X_train_seq = tokenizer.texts_to_sequences(X_train)\n",
    "X_test_seq = tokenizer.texts_to_sequences(X_test)\n",
    "\n",
    "# Pad sequences to a fixed length\n",
    "max_seq_length = 100  # Adjust as needed\n",
    "X_train_pad = pad_sequences(X_train_seq, maxlen=max_seq_length)\n",
    "X_test_pad = pad_sequences(X_test_seq, maxlen=max_seq_length)\n",
    "\n",
    "# Create a model with CNN and LSTM layers\n",
    "model = Sequential()\n",
    "model.add(Embedding(input_dim=len(tokenizer.word_index) + 1, output_dim=100, input_length=max_seq_length))\n",
    "model.add(Conv1D(128, 5, activation='relu'))\n",
    "model.add(MaxPooling1D(5))\n",
    "model.add(LSTM(64, return_sequences=True))  # LSTM layer with 64 units\n",
    "model.add(GlobalMaxPooling1D())\n",
    "model.add(Dense(128, activation='relu'))\n",
    "model.add(Dropout(0.5))\n",
    "model.add(Dense(1, activation='sigmoid'))\n",
    "\n",
    "# Compile the model\n",
    "model.compile(loss='binary_crossentropy', optimizer='adam', metrics=['accuracy'])\n",
    "\n",
    "# Train the model\n",
    "model.fit(X_train_pad, y_train, epochs=3, batch_size=64, validation_data=(X_test_pad, y_test))\n",
    "\n",
    "# Evaluate the model\n",
    "loss, accuracy = model.evaluate(X_test_pad, y_test)\n",
    "print(f'Test Accuracy: {accuracy}')\n"
   ]
  },
  {
   "cell_type": "code",
   "execution_count": 12,
   "id": "356e0679-8e13-48e7-adcd-8a0888251b37",
   "metadata": {},
   "outputs": [
    {
     "name": "stdout",
     "output_type": "stream",
     "text": [
      "1/1 [==============================] - 0s 309ms/step\n",
      "Data Point 1: CALLER IS REPORTING A RELEASE OF DIESEL FUEL FROM A PUMP AT A GAS STATION.\n",
      "Predicted Target: 0\n",
      "Predicted Probability: 0.01\n",
      "\n",
      "Data Point 2: CALLER IS REPORTING THAT THERE IS A PARTIALLY SUBMERGED DRUM THAT IS NEAR THE BEACH LINE. THE DRUM IS DARK IN COLOR AND CAN ONLY BE SEEN AT LOW TIDE.\n",
      "Predicted Target: 0\n",
      "Predicted Probability: 0.01\n",
      "\n",
      "Data Point 3: CALLER IS REPORTING THAT ONE BULLET WAS FOUND IN A PASSENGERS CARRY ON BAG AT THE GANG WAY SECURITY CHECK.\n",
      "Predicted Target: 0\n",
      "Predicted Probability: 0.04\n",
      "\n",
      "Data Point 4: CALLER STATED THAT THEY DISCOVERED A VESSEL THAT IS TAKING ON WATER AND IS HALF OUT OF THE WATER, RESTING ON THE BOTTOM. THERE WAS NO REPORT OF POLLUTION AT THE TIME OF THE REPORT.\n",
      "Predicted Target: 0\n",
      "Predicted Probability: 0.00\n",
      "\n",
      "Data Point 5: CALLER IS REPORTING THAT SODIUM HYDROXIDE IS LEAKING FROM A TANKER TRUCK DUE TO UNKNOWN CAUSES.\n",
      "Predicted Target: 1\n",
      "Predicted Probability: 0.92\n",
      "\n",
      "Data Point 6: THE CALLER IS REPORTING A RELEASE OF UN1993 (COMBUSTIBLE LIQUID) DUE TO POTENTIAL LOAD SHIFT *(DAMAGE TO THE TOTE DURING TRANSPORT). THE IMPACTS ARE INSIDE THE TRAILER, ROADWAY, AND INTO A STORM DRAIN.\n",
      "Predicted Target: 1\n",
      "Predicted Probability: 0.91\n",
      "\n",
      "Data Point 7: CALLER IS REPORTING THAT A TANKER TRUCK ROLLED OVER AND DISCHARGED APPROXIMATELY 16 BARRELS OF CRUDE OIL ONTO THE GROUND. NO FIRES, INJURIES, OR FATALITIES REPORTED.\n",
      "Predicted Target: 1\n",
      "Predicted Probability: 0.93\n",
      "\n",
      "Data Point 8: CALLER IS REPORTING A RELEASE OF SODIUM HYDROXIDE SOLUTION ONTO THE BALLAST FROM TANK CAR GAMX5483 DUE TO EQUIPMENT FAILURE.\n",
      "Predicted Target: 1\n",
      "Predicted Probability: 0.84\n",
      "\n",
      "Data Point 9: CALLER IS REPORTING A RELEASE OF PHOSPHOROUS ACID (UN 2834) ONTO THE PAVEMENT AT A RAILYARD FROM A SHIPPING CONTAINER FOR UNKNOWN REASONS.\n",
      "Predicted Target: 1\n",
      "Predicted Probability: 0.87\n",
      "\n",
      "Data Point 10: THE CALLER IS REPORTING A DISCHARGE OF DYED DIESEL FUEL NO. 2 (300-400 GALLONS) ONTO SOIL. THE CALLER STATED THAT WHILE TRANSFERRING FUEL FROM A TANKER TRUCK TO A STORAGE TANK A VALVE WAS IMPROPERLY LEFT OPEN.\n",
      "Predicted Target: 1\n",
      "Predicted Probability: 0.93\n",
      "\n"
     ]
    }
   ],
   "source": [
    "# List of 10 new data points (text descriptions) that you want to predict\n",
    "new_data_points = [\n",
    "    \"CALLER IS REPORTING A RELEASE OF DIESEL FUEL FROM A PUMP AT A GAS STATION.\",\n",
    "    \"CALLER IS REPORTING THAT THERE IS A PARTIALLY SUBMERGED DRUM THAT IS NEAR THE BEACH LINE. THE DRUM IS DARK IN COLOR AND CAN ONLY BE SEEN AT LOW TIDE.\",\n",
    "    \"CALLER IS REPORTING THAT ONE BULLET WAS FOUND IN A PASSENGERS CARRY ON BAG AT THE GANG WAY SECURITY CHECK.\",\n",
    "    \"CALLER STATED THAT THEY DISCOVERED A VESSEL THAT IS TAKING ON WATER AND IS HALF OUT OF THE WATER, RESTING ON THE BOTTOM. THERE WAS NO REPORT OF POLLUTION AT THE TIME OF THE REPORT.\",\n",
    "    \"CALLER IS REPORTING THAT SODIUM HYDROXIDE IS LEAKING FROM A TANKER TRUCK DUE TO UNKNOWN CAUSES.\",\n",
    "    \"THE CALLER IS REPORTING A RELEASE OF UN1993 (COMBUSTIBLE LIQUID) DUE TO POTENTIAL LOAD SHIFT *(DAMAGE TO THE TOTE DURING TRANSPORT). THE IMPACTS ARE INSIDE THE TRAILER, ROADWAY, AND INTO A STORM DRAIN.\",\n",
    "    \"CALLER IS REPORTING THAT A TANKER TRUCK ROLLED OVER AND DISCHARGED APPROXIMATELY 16 BARRELS OF CRUDE OIL ONTO THE GROUND. NO FIRES, INJURIES, OR FATALITIES REPORTED.\",\n",
    "    \"CALLER IS REPORTING A RELEASE OF SODIUM HYDROXIDE SOLUTION ONTO THE BALLAST FROM TANK CAR GAMX5483 DUE TO EQUIPMENT FAILURE.\",\n",
    "    \"CALLER IS REPORTING A RELEASE OF PHOSPHOROUS ACID (UN 2834) ONTO THE PAVEMENT AT A RAILYARD FROM A SHIPPING CONTAINER FOR UNKNOWN REASONS.\",\n",
    "    \"THE CALLER IS REPORTING A DISCHARGE OF DYED DIESEL FUEL NO. 2 (300-400 GALLONS) ONTO SOIL. THE CALLER STATED THAT WHILE TRANSFERRING FUEL FROM A TANKER TRUCK TO A STORAGE TANK A VALVE WAS IMPROPERLY LEFT OPEN.\"\n",
    "]\n",
    "\n",
    "# Tokenize and pad sequences for the new data points\n",
    "new_data_sequences = tokenizer.texts_to_sequences(new_data_points)\n",
    "new_data_pad = pad_sequences(new_data_sequences, maxlen=max_seq_length)\n",
    "\n",
    "# Make predictions for each data point using the LSTM model\n",
    "predictions = model.predict(new_data_pad)\n",
    "predicted_targets = [1 if prob >= 0.3 else 0 for prob in predictions]\n",
    "\n",
    "# Print the predictions and probabilities for each data point\n",
    "for i, data_point in enumerate(new_data_points):\n",
    "    print(f\"Data Point {i + 1}: {data_point}\")\n",
    "    print(f\"Predicted Target: {predicted_targets[i]}\")\n",
    "    print(f\"Predicted Probability: {predictions[i][0]:.2f}\")\n",
    "    print()"
   ]
  },
  {
   "cell_type": "markdown",
   "id": "644bf962-7fad-4fd6-af6a-40d975da5c3b",
   "metadata": {},
   "source": [
    "We can see that on average, this model performs better than the CNN model without LSTM."
   ]
  },
  {
   "cell_type": "code",
   "execution_count": null,
   "id": "608efe47-7841-44ff-9cbb-57926bfbefe0",
   "metadata": {},
   "outputs": [],
   "source": []
  }
 ],
 "metadata": {
  "kernelspec": {
   "display_name": "Python 3 (ipykernel)",
   "language": "python",
   "name": "python3"
  },
  "language_info": {
   "codemirror_mode": {
    "name": "ipython",
    "version": 3
   },
   "file_extension": ".py",
   "mimetype": "text/x-python",
   "name": "python",
   "nbconvert_exporter": "python",
   "pygments_lexer": "ipython3",
   "version": "3.9.1"
  }
 },
 "nbformat": 4,
 "nbformat_minor": 5
}
